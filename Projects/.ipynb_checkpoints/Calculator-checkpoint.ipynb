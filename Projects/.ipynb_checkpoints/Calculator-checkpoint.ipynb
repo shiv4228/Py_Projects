{
 "cells": [
  {
   "cell_type": "code",
   "execution_count": 2,
   "metadata": {},
   "outputs": [
    {
     "name": "stdout",
     "output_type": "stream",
     "text": [
      "Enter first number : 8\n",
      "Enter second number : 9\n",
      "Enter operator : *\n",
      "Result of 8.0 * 9.0 is :  72.0\n"
     ]
    }
   ],
   "source": [
    "# function to define calculations\n",
    "def add(a,b):\n",
    "    return a+b\n",
    "def subtract(a,b):\n",
    "    return a-b\n",
    "def divide(a,b):\n",
    "    return a/b\n",
    "def multiply(a,b):\n",
    "    return a*b\n",
    "\n",
    "num1 = float(input(\"Enter first number : \"))\n",
    "num2 = float(input(\"Enter second number : \"))\n",
    "operator = input(\"Enter operator : \")\n",
    "\n",
    "if operator == \"+\":\n",
    "    result = add(num1,num2)\n",
    "\n",
    "elif operator == \"-\":\n",
    "    result = subtract(num1,num2)\n",
    "\n",
    "elif operator == \"*\":\n",
    "    result = multiply(num1,num2)\n",
    "\n",
    "elif operator == \"/\":\n",
    "    result = divide(num1,num2)\n",
    "\n",
    "else:\n",
    "    print(\"Invalid Operator Entered\")\n",
    "    exit()\n",
    "\n",
    "print(f\"Result of {num1} {operator} {num2} is : \", result)"
   ]
  },
  {
   "cell_type": "code",
   "execution_count": null,
   "metadata": {},
   "outputs": [],
   "source": []
  }
 ],
 "metadata": {
  "kernelspec": {
   "display_name": "Python 3 (ipykernel)",
   "language": "python",
   "name": "python3"
  },
  "language_info": {
   "codemirror_mode": {
    "name": "ipython",
    "version": 3
   },
   "file_extension": ".py",
   "mimetype": "text/x-python",
   "name": "python",
   "nbconvert_exporter": "python",
   "pygments_lexer": "ipython3",
   "version": "3.9.13"
  }
 },
 "nbformat": 4,
 "nbformat_minor": 2
}
